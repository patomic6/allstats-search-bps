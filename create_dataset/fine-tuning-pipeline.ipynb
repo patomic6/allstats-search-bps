{
 "cells": [
  {
   "cell_type": "markdown",
   "id": "e9dedbd4",
   "metadata": {},
   "source": [
    "# A. Preprocessing Data"
   ]
  },
  {
   "cell_type": "markdown",
   "id": "dd84929d",
   "metadata": {},
   "source": [
    "# B. Processing Data"
   ]
  },
  {
   "cell_type": "markdown",
   "id": "87d6e748",
   "metadata": {},
   "source": [
    "## 1. Generating Queries"
   ]
  },
  {
   "cell_type": "markdown",
   "id": "987bb33f",
   "metadata": {},
   "source": [
    "## 2. Build Qrels"
   ]
  }
 ],
 "metadata": {
  "language_info": {
   "name": "python"
  }
 },
 "nbformat": 4,
 "nbformat_minor": 5
}
